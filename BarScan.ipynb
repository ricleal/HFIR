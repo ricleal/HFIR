{
 "cells": [
  {
   "cell_type": "code",
   "execution_count": 1,
   "metadata": {},
   "outputs": [],
   "source": [
    "%matplotlib notebook\n",
    "from __future__ import print_function\n",
    "\n",
    "import sys\n",
    "import numpy as np\n",
    "import xml.etree.ElementTree as ET\n",
    "import logging\n",
    "import glob\n",
    "import matplotlib.pyplot as plt\n",
    "import os\n",
    "\n",
    "from ipywidgets import interact, interactive, fixed, interact_manual\n",
    "import ipywidgets as widgets\n",
    "\n",
    "from lmfit import Model\n",
    "from lmfit.models import LinearModel, StepModel"
   ]
  },
  {
   "cell_type": "code",
   "execution_count": 2,
   "metadata": {},
   "outputs": [],
   "source": [
    "logging.getLogger(\"matplotlib\").setLevel(logging.WARNING)\n",
    "logger = logging.getLogger(__name__)\n",
    "logging.basicConfig(format='%(levelname)s:%(message)s', level=logging.DEBUG)\n",
    "\n",
    "plt.rcParams['figure.figsize'] = [8, 6]"
   ]
  },
  {
   "cell_type": "code",
   "execution_count": 3,
   "metadata": {},
   "outputs": [],
   "source": [
    "# Constants\n",
    "barscan_files = '/HFIR/CG2/IPTS-828/exp331/Datafiles/CG2_exp331_scan0005_0*.xml'\n",
    "# chop the ends of the tube\n",
    "tube_cut_bottom = 10\n",
    "tube_cut_top = 10\n"
   ]
  },
  {
   "cell_type": "code",
   "execution_count": 4,
   "metadata": {},
   "outputs": [],
   "source": [
    "def process(filename, xpath=\"Data/Detector\"):\n",
    "\n",
    "    # logger.info(\"Parsing: %s.\" % filename)\n",
    "    tree = ET.parse(filename)\n",
    "    root = tree.getroot()\n",
    "\n",
    "    def getMetadata(xpath):\n",
    "        '''\n",
    "        Given Xpath returns either float or string\n",
    "        '''\n",
    "        elems = root.findall(xpath)\n",
    "        if not elems:\n",
    "            logger.error(\"xpath %s is not valid!\" % xpath)\n",
    "            return None\n",
    "        elif len(elems) > 1:\n",
    "            logger.warning(\"xpath %s has more than one element (len = %d)! Returning first!\" % (\n",
    "                xpath, len(elems)))\n",
    "        value_as_string = elems[0].text\n",
    "        try:\n",
    "            return float(value_as_string)\n",
    "        except ValueError:\n",
    "            return value_as_string\n",
    "\n",
    "    def getData(xpath):\n",
    "        '''\n",
    "        Parses the XML xpath data into a 2D Xarray\n",
    "        '''\n",
    "        data_str = getMetadata(xpath)\n",
    "        data_list_of_chars = [line.split(\"\\t\")\n",
    "                              for line in data_str.strip().split(\"\\n\")]\n",
    "        data = [list(map(int, line)) for line in data_list_of_chars]\n",
    "        data_np = np.array(data)\n",
    "        data_np = np.rot90(data_np)\n",
    "        data_np = np.flipud(data_np)\n",
    "        return data_np\n",
    "\n",
    "    data = getData(xpath)\n",
    "    return data"
   ]
  },
  {
   "cell_type": "markdown",
   "metadata": {},
   "source": [
    "## Plot detector"
   ]
  },
  {
   "cell_type": "code",
   "execution_count": 5,
   "metadata": {},
   "outputs": [],
   "source": [
    "def show_detector(filename):\n",
    "    data = process(filename, xpath=\"Data/Detector\")\n",
    "    fig, ax = plt.subplots()\n",
    "    im = ax.pcolormesh(data)\n",
    "    fig.colorbar(im, ax=ax)\n",
    "    ax.set_title(os.path.basename(filename))\n",
    "    ax.set_xlabel('Tube')\n",
    "    ax.set_ylabel('Pixel')\n",
    "    fig.canvas.draw()"
   ]
  },
  {
   "cell_type": "code",
   "execution_count": 6,
   "metadata": {},
   "outputs": [
    {
     "name": "stderr",
     "output_type": "stream",
     "text": [
      "DEBUG:Read 111 files.\n"
     ]
    }
   ],
   "source": [
    "files = glob.glob(barscan_files)\n",
    "logger.debug(\"Read {} files.\".format(len(files)))\n",
    "\n",
    "# Natural sorting the files\n",
    "files = sorted(files, key=lambda name: int(name[-8:-4]))"
   ]
  },
  {
   "cell_type": "code",
   "execution_count": 7,
   "metadata": {},
   "outputs": [
    {
     "data": {
      "application/vnd.jupyter.widget-view+json": {
       "model_id": "ea8a5d7251da4290b130d420f13bcc4c"
      }
     },
     "metadata": {},
     "output_type": "display_data"
    },
    {
     "data": {
      "text/plain": [
       "<function __main__.show_detector_integer>"
      ]
     },
     "execution_count": 7,
     "metadata": {},
     "output_type": "execute_result"
    }
   ],
   "source": [
    "# Convert from integer to filenames\n",
    "def show_detector_integer(point_number):\n",
    "    show_detector('/HFIR/CG2/IPTS-828/exp331/Datafiles/CG2_exp331_scan0005_{0:04d}.xml'.format(point_number))\n",
    "\n",
    "interact(show_detector_integer, point_number=(1, len(files)))\n"
   ]
  },
  {
   "cell_type": "markdown",
   "metadata": {},
   "source": [
    "## Plot tubes"
   ]
  },
  {
   "cell_type": "code",
   "execution_count": 8,
   "metadata": {},
   "outputs": [],
   "source": [
    "def fit(x, y, e):\n",
    "    \n",
    "    step_mod = StepModel(form='atan', prefix='step_')\n",
    "    line_mod = LinearModel(prefix='line_')\n",
    "\n",
    "    pars = line_mod.make_params(intercept=y.min(), slope=0)\n",
    "    pars += step_mod.guess(y, x=x, center=0.2)\n",
    "\n",
    "    mod = step_mod + line_mod\n",
    "    out = mod.fit(y, pars, x=x)#, weights=1/e)\n",
    "    \n",
    "    return out\n",
    "    "
   ]
  },
  {
   "cell_type": "code",
   "execution_count": 9,
   "metadata": {},
   "outputs": [],
   "source": [
    "\n",
    "def show_tube(filename, tube=0):\n",
    "\n",
    "    x = np.linspace(-0.54825, 0.54825, 256)\n",
    "    x = x[tube_cut_bottom:-tube_cut_top]\n",
    "    \n",
    "    data = process(filename, xpath=\"Data/Detector\")\n",
    "    tube_to_plot = data[tube_cut_bottom:-tube_cut_top, tube]\n",
    "\n",
    "    fig, ax = plt.subplots()\n",
    "    ax.errorbar(x, tube_to_plot, yerr=np.sqrt(tube_to_plot), fmt='x', capthick=4, label=\"Tube\")\n",
    "    \n",
    "\n",
    "    min_pos = np.argmin(tube_to_plot)\n",
    "    \n",
    "    x = x[min_pos-10:min_pos+5]\n",
    "    y = tube_to_plot[min_pos-10:min_pos+5]\n",
    "    \n",
    "    fit_out = fit(x, y, e=np.sqrt(y))\n",
    "    print(fit_out.fit_report())\n",
    "#     print(dir(fit_out))\n",
    "#     print(fit_out.best_values['step_center'])\n",
    "    \n",
    "    ax.plot(x, fit_out.best_fit, label=\"Fit\")\n",
    "    \n",
    "    ax.set_title(\"{} :: Tube={}\".format(os.path.basename(filename), tube))\n",
    "    ax.set_xlabel('Pixel')\n",
    "    ax.set_ylabel('Counts')\n",
    "    ax.grid(True)\n",
    "    ax.legend()\n",
    "    fig.canvas.draw()"
   ]
  },
  {
   "cell_type": "code",
   "execution_count": 10,
   "metadata": {},
   "outputs": [
    {
     "data": {
      "application/vnd.jupyter.widget-view+json": {
       "model_id": "79f9d49695634912a1973e95e9c743a1"
      }
     },
     "metadata": {},
     "output_type": "display_data"
    },
    {
     "data": {
      "text/plain": [
       "<function __main__.show_tube>"
      ]
     },
     "execution_count": 10,
     "metadata": {},
     "output_type": "execute_result"
    }
   ],
   "source": [
    "interact(show_tube, filename=files, tube=(0, 191))"
   ]
  },
  {
   "cell_type": "code",
   "execution_count": null,
   "metadata": {},
   "outputs": [],
   "source": []
  },
  {
   "cell_type": "code",
   "execution_count": null,
   "metadata": {},
   "outputs": [],
   "source": []
  }
 ],
 "metadata": {
  "kernelspec": {
   "display_name": "Python 3",
   "language": "python",
   "name": "python3"
  },
  "language_info": {
   "codemirror_mode": {
    "name": "ipython",
    "version": 3
   },
   "file_extension": ".py",
   "mimetype": "text/x-python",
   "name": "python",
   "nbconvert_exporter": "python",
   "pygments_lexer": "ipython3",
   "version": "3.6.7"
  }
 },
 "nbformat": 4,
 "nbformat_minor": 2
}
